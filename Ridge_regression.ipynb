{
 "cells": [
  {
   "cell_type": "code",
   "execution_count": 11,
   "id": "ea094f9f-496b-4603-8494-712a7bfc7097",
   "metadata": {},
   "outputs": [],
   "source": [
    "import pandas as pd\n",
    "import numpy as np\n",
    "from sklearn import model_selection\n",
    "from sklearn.preprocessing import StandardScaler\n",
    "from sklearn.linear_model import Ridge\n",
    "from sklearn.metrics import mean_squared_error\n",
    "from math import sqrt\n",
    "import matplotlib.pyplot as plt"
   ]
  },
  {
   "cell_type": "code",
   "execution_count": 12,
   "id": "85f9676d-4bda-4235-90f6-5b17ea26520b",
   "metadata": {},
   "outputs": [],
   "source": [
    "df_test = pd.read_csv('test_v1.csv', sep = ';',decimal =',')\n",
    "df_train = pd.read_csv('train_v1.csv', sep = ';', decimal =',')"
   ]
  },
  {
   "cell_type": "code",
   "execution_count": 23,
   "id": "99725318-b93a-47eb-bb4f-70c627d5f07f",
   "metadata": {},
   "outputs": [],
   "source": [
    "X_train = df_train.drop(columns = ['Disintegration_Time'])\n",
    "y_train = df_train[['Disintegration_Time']]\n",
    "\n",
    "X_test = df_test.drop(columns = ['Disintegration_Time'])\n",
    "y_test = df_test[['Disintegration_Time']]\n"
   ]
  },
  {
   "cell_type": "code",
   "execution_count": 24,
   "id": "8151a859-80c8-4077-b027-e60724dc01f1",
   "metadata": {},
   "outputs": [],
   "source": [
    "#rr=Ridge(alpha=0.1)\n",
    "#rr.fit(X_train, y_train)"
   ]
  },
  {
   "cell_type": "code",
   "execution_count": 25,
   "id": "f5ce49c5-9a08-4aa9-9274-ab62089807c3",
   "metadata": {},
   "outputs": [
    {
     "data": {
      "text/html": [
       "<div>\n",
       "<style scoped>\n",
       "    .dataframe tbody tr th:only-of-type {\n",
       "        vertical-align: middle;\n",
       "    }\n",
       "\n",
       "    .dataframe tbody tr th {\n",
       "        vertical-align: top;\n",
       "    }\n",
       "\n",
       "    .dataframe thead th {\n",
       "        text-align: right;\n",
       "    }\n",
       "</style>\n",
       "<table border=\"1\" class=\"dataframe\">\n",
       "  <thead>\n",
       "    <tr style=\"text-align: right;\">\n",
       "      <th></th>\n",
       "      <th>Ridge</th>\n",
       "    </tr>\n",
       "  </thead>\n",
       "  <tbody>\n",
       "    <tr>\n",
       "      <th>rmse_train</th>\n",
       "      <td>NaN</td>\n",
       "    </tr>\n",
       "    <tr>\n",
       "      <th>rmse_test</th>\n",
       "      <td>NaN</td>\n",
       "    </tr>\n",
       "  </tbody>\n",
       "</table>\n",
       "</div>"
      ],
      "text/plain": [
       "           Ridge\n",
       "rmse_train   NaN\n",
       "rmse_test    NaN"
      ]
     },
     "execution_count": 25,
     "metadata": {},
     "output_type": "execute_result"
    }
   ],
   "source": [
    "algos = ['Ridge']\n",
    "metrics = ['rmse_train','rmse_test']\n",
    "results = pd.DataFrame(columns=algos, index = metrics)\n",
    "results"
   ]
  },
  {
   "cell_type": "code",
   "execution_count": 26,
   "id": "e92f0633-df75-4de5-a963-b067fd316573",
   "metadata": {},
   "outputs": [],
   "source": [
    "rf_results = pd.DataFrame(columns=['rmse'])"
   ]
  },
  {
   "cell_type": "code",
   "execution_count": 27,
   "id": "835571bf-f0e6-4dd0-ba4d-cecfbc511969",
   "metadata": {},
   "outputs": [],
   "source": [
    "rf_model = Ridge(alpha=100, fit_intercept=False)\n",
    "rf_model_reg = rf_model.fit(X_train, np.ravel(y_train))\n",
    "tmp_rmse = mean_squared_error(y_test, rf_model_reg.predict(X_test), squared=False)\n",
    "tmp_row = pd.DataFrame(data=np.array([[tmp_rmse]]), columns=['rmse'])\n",
    "rf_results = pd.concat([rf_results, tmp_row], axis=0, ignore_index=True)"
   ]
  },
  {
   "cell_type": "code",
   "execution_count": 28,
   "id": "63677b63-23a9-4a82-b02c-671818deb826",
   "metadata": {},
   "outputs": [],
   "source": [
    "#pred_train_rr=rr.predict(X_train)\n",
    "#print(np.sqrt(mean_squared_error(y_train,pred_train_rr)))"
   ]
  },
  {
   "cell_type": "code",
   "execution_count": 29,
   "id": "a30e768b-a116-4242-913c-e4d5275f9d09",
   "metadata": {},
   "outputs": [
    {
     "data": {
      "text/html": [
       "<div>\n",
       "<style scoped>\n",
       "    .dataframe tbody tr th:only-of-type {\n",
       "        vertical-align: middle;\n",
       "    }\n",
       "\n",
       "    .dataframe tbody tr th {\n",
       "        vertical-align: top;\n",
       "    }\n",
       "\n",
       "    .dataframe thead th {\n",
       "        text-align: right;\n",
       "    }\n",
       "</style>\n",
       "<table border=\"1\" class=\"dataframe\">\n",
       "  <thead>\n",
       "    <tr style=\"text-align: right;\">\n",
       "      <th></th>\n",
       "      <th>rmse</th>\n",
       "    </tr>\n",
       "  </thead>\n",
       "  <tbody>\n",
       "    <tr>\n",
       "      <th>0</th>\n",
       "      <td>1.188736</td>\n",
       "    </tr>\n",
       "  </tbody>\n",
       "</table>\n",
       "</div>"
      ],
      "text/plain": [
       "       rmse\n",
       "0  1.188736"
      ]
     },
     "execution_count": 29,
     "metadata": {},
     "output_type": "execute_result"
    }
   ],
   "source": [
    "rf_results"
   ]
  }
 ],
 "metadata": {
  "kernelspec": {
   "display_name": "Python 3 (ipykernel)",
   "language": "python",
   "name": "python3"
  },
  "language_info": {
   "codemirror_mode": {
    "name": "ipython",
    "version": 3
   },
   "file_extension": ".py",
   "mimetype": "text/x-python",
   "name": "python",
   "nbconvert_exporter": "python",
   "pygments_lexer": "ipython3",
   "version": "3.8.13"
  }
 },
 "nbformat": 4,
 "nbformat_minor": 5
}
