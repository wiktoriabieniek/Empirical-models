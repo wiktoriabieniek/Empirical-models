{
 "cells": [
  {
   "cell_type": "code",
   "execution_count": 82,
   "id": "d2c7a1e2-45bc-4105-9e07-d5829a90478f",
   "metadata": {},
   "outputs": [],
   "source": [
    "import pandas as pd\n",
    "import numpy as np\n",
    "from sklearn import model_selection\n",
    "from sklearn.preprocessing import StandardScaler\n",
    "from sklearn.model_selection import train_test_split\n",
    "from sklearn.svm import SVC\n",
    "from sklearn.metrics import mean_squared_error\n",
    "from sklearn.metrics import r2_score\n",
    "from sklearn.neighbors import KNeighborsRegressor\n",
    "from math import sqrt\n",
    "import matplotlib.pyplot as plt"
   ]
  },
  {
   "cell_type": "code",
   "execution_count": 83,
   "id": "5fab8496-d226-4628-8177-d0f799ff6d75",
   "metadata": {},
   "outputs": [],
   "source": [
    "df_test = pd.read_csv('test_v1.csv', sep = ';')\n",
    "df_train = pd.read_csv('train_v1.csv', sep = ';')"
   ]
  },
  {
   "cell_type": "code",
   "execution_count": 84,
   "id": "67aa1507-9dc9-4d25-9b82-41e22fe1cd02",
   "metadata": {},
   "outputs": [],
   "source": [
    "X_train = df_train.drop(columns = ['Disintegration_Time'])\n",
    "y_train = df_train[['Disintegration_Time']]\n",
    "\n",
    "X_test = df_test.drop(columns = ['Disintegration_Time'])\n",
    "y_test = df_test[['Disintegration_Time']]\n"
   ]
  },
  {
   "cell_type": "code",
   "execution_count": 85,
   "id": "dbafbb1f-3d22-4150-a4b6-5852d68faf6a",
   "metadata": {},
   "outputs": [
    {
     "data": {
      "text/html": [
       "<div>\n",
       "<style scoped>\n",
       "    .dataframe tbody tr th:only-of-type {\n",
       "        vertical-align: middle;\n",
       "    }\n",
       "\n",
       "    .dataframe tbody tr th {\n",
       "        vertical-align: top;\n",
       "    }\n",
       "\n",
       "    .dataframe thead th {\n",
       "        text-align: right;\n",
       "    }\n",
       "</style>\n",
       "<table border=\"1\" class=\"dataframe\">\n",
       "  <thead>\n",
       "    <tr style=\"text-align: right;\">\n",
       "      <th></th>\n",
       "      <th>KNeighborsRegressor</th>\n",
       "    </tr>\n",
       "  </thead>\n",
       "  <tbody>\n",
       "    <tr>\n",
       "      <th>rmse_train</th>\n",
       "      <td>NaN</td>\n",
       "    </tr>\n",
       "    <tr>\n",
       "      <th>rmse_test</th>\n",
       "      <td>NaN</td>\n",
       "    </tr>\n",
       "  </tbody>\n",
       "</table>\n",
       "</div>"
      ],
      "text/plain": [
       "           KNeighborsRegressor\n",
       "rmse_train                 NaN\n",
       "rmse_test                  NaN"
      ]
     },
     "execution_count": 85,
     "metadata": {},
     "output_type": "execute_result"
    }
   ],
   "source": [
    "algos = ['KNeighborsRegressor']\n",
    "metrics = ['rmse_train','rmse_test']\n",
    "results = pd.DataFrame(columns=algos, index = metrics)\n",
    "results"
   ]
  },
  {
   "cell_type": "code",
   "execution_count": 86,
   "id": "901d44bc-92c3-4241-9d98-cc0474ebf2fe",
   "metadata": {},
   "outputs": [],
   "source": [
    "rf_results = pd.DataFrame(columns=['rmse'])"
   ]
  },
  {
   "cell_type": "code",
   "execution_count": 87,
   "id": "762a5b32-0e16-4a0d-90ae-f3e8930f741f",
   "metadata": {},
   "outputs": [],
   "source": [
    "n_neighbors = [10]"
   ]
  },
  {
   "cell_type": "code",
   "execution_count": 88,
   "id": "45b3ca39-6a3b-4a0c-b054-30bf842b2c35",
   "metadata": {},
   "outputs": [],
   "source": [
    "for neighbors in n_neighbors:\n",
    "    rf_model =KNeighborsRegressor(n_neighbors=10, weights='distance',leaf_size=5, algorithm='kd_tree')\n",
    "    rf_model_reg = rf_model.fit(X_train, np.ravel(y_train))\n",
    "    tmp_rmse = mean_squared_error(y_test, rf_model_reg.predict(X_test), squared=False)\n",
    "    tmp_neighbors = neighbors\n",
    "    tmp_row = pd.DataFrame(data=np.array([[int(tmp_neighbors),tmp_rmse]]), columns=['neighbors', 'rmse'])\n",
    "    rf_results = pd.concat([rf_results, tmp_row], axis=0, ignore_index=True)\n"
   ]
  },
  {
   "cell_type": "code",
   "execution_count": 89,
   "id": "32ce881a-6324-42f1-8eee-7184b0106a1b",
   "metadata": {},
   "outputs": [
    {
     "data": {
      "text/html": [
       "<div>\n",
       "<style scoped>\n",
       "    .dataframe tbody tr th:only-of-type {\n",
       "        vertical-align: middle;\n",
       "    }\n",
       "\n",
       "    .dataframe tbody tr th {\n",
       "        vertical-align: top;\n",
       "    }\n",
       "\n",
       "    .dataframe thead th {\n",
       "        text-align: right;\n",
       "    }\n",
       "</style>\n",
       "<table border=\"1\" class=\"dataframe\">\n",
       "  <thead>\n",
       "    <tr style=\"text-align: right;\">\n",
       "      <th></th>\n",
       "      <th>rmse</th>\n",
       "      <th>neighbors</th>\n",
       "    </tr>\n",
       "  </thead>\n",
       "  <tbody>\n",
       "    <tr>\n",
       "      <th>0</th>\n",
       "      <td>1.738151</td>\n",
       "      <td>10.0</td>\n",
       "    </tr>\n",
       "  </tbody>\n",
       "</table>\n",
       "</div>"
      ],
      "text/plain": [
       "       rmse  neighbors\n",
       "0  1.738151       10.0"
      ]
     },
     "execution_count": 89,
     "metadata": {},
     "output_type": "execute_result"
    }
   ],
   "source": [
    "rf_results"
   ]
  }
 ],
 "metadata": {
  "kernelspec": {
   "display_name": "Python 3 (ipykernel)",
   "language": "python",
   "name": "python3"
  },
  "language_info": {
   "codemirror_mode": {
    "name": "ipython",
    "version": 3
   },
   "file_extension": ".py",
   "mimetype": "text/x-python",
   "name": "python",
   "nbconvert_exporter": "python",
   "pygments_lexer": "ipython3",
   "version": "3.8.13"
  }
 },
 "nbformat": 4,
 "nbformat_minor": 5
}
