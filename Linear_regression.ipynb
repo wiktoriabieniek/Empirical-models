{
 "cells": [
  {
   "cell_type": "code",
   "execution_count": 21,
   "id": "288d8ffe-cbc5-4746-9b66-b556ed88d887",
   "metadata": {},
   "outputs": [],
   "source": [
    "# Import the necessary modules and libraries\n",
    "import pandas as pd\n",
    "import numpy as np\n",
    "import matplotlib.pyplot as plt\n",
    "from sklearn.model_selection import train_test_split\n",
    "from sklearn.linear_model import LinearRegression\n",
    "from sklearn import metrics\n",
    "from sklearn.metrics import r2_score\n",
    "from sklearn.impute import SimpleImputer\n",
    "from sklearn.preprocessing import StandardScaler\n"
   ]
  },
  {
   "cell_type": "code",
   "execution_count": 22,
   "id": "73e2f5c0-1f9e-43e0-8c59-9c113740747f",
   "metadata": {},
   "outputs": [],
   "source": [
    "df_test = pd.read_csv('test_v1.csv', sep = ';',decimal =',')\n",
    "df_train = pd.read_csv('train_v1.csv', sep = ';', decimal =',')"
   ]
  },
  {
   "cell_type": "code",
   "execution_count": 23,
   "id": "5cc22898-f689-40d6-ada8-c33b3331aa3e",
   "metadata": {},
   "outputs": [],
   "source": [
    "X_train = df_train.drop(columns = ['Disintegration_Time'])\n",
    "y_train = df_train[['Disintegration_Time']]\n",
    "\n",
    "X_test = df_test.drop(columns = ['Disintegration_Time'])\n",
    "y_test = df_test[['Disintegration_Time']]"
   ]
  },
  {
   "cell_type": "code",
   "execution_count": 24,
   "id": "7088c08d-d253-4112-a6e2-d240dbfa88e8",
   "metadata": {},
   "outputs": [],
   "source": [
    "scaler = StandardScaler()\n",
    "# fit scaler to training data set, then transform both data sets (training and testing)\n",
    "scaler.fit(X_train) \n",
    "X_train = scaler.transform(X_train)\n",
    "X_test = scaler.transform(X_test)"
   ]
  },
  {
   "cell_type": "code",
   "execution_count": 25,
   "id": "c988b829-5e75-403d-952c-73b8b4f4fa7f",
   "metadata": {},
   "outputs": [
    {
     "data": {
      "text/plain": [
       "array([[-2.00409417,  2.00409417,  1.940285  , -1.940285  , -2.23606798,\n",
       "        -2.00409417, -2.00409417, -2.01399597],\n",
       "       [-2.00409417,  2.00409417,  1.940285  , -1.940285  , -2.23606798,\n",
       "        -2.00409417, -2.00409417, -2.01399597],\n",
       "       [-2.00409417,  2.00409417,  1.940285  , -1.940285  , -2.23606798,\n",
       "        -2.00409417, -2.00409417, -2.01399597],\n",
       "       [-2.00409417,  2.00409417,  1.940285  , -1.940285  , -2.23606798,\n",
       "        -2.00409417, -2.00409417, -2.01399597],\n",
       "       [-2.00409417,  2.00409417,  1.940285  , -1.940285  , -2.23606798,\n",
       "        -2.00409417, -2.00409417, -2.01399597],\n",
       "       [-2.00409417,  2.00409417,  1.940285  , -1.940285  , -2.23606798,\n",
       "        -2.00409417, -2.00409417, -2.01399597],\n",
       "       [-0.28629917,  0.28629917,  0.48507125, -0.48507125,  0.4472136 ,\n",
       "        -0.28629917, -0.28629917, -0.10599979],\n",
       "       [-0.28629917,  0.28629917,  0.48507125, -0.48507125,  0.4472136 ,\n",
       "        -0.28629917, -0.28629917, -0.10599979],\n",
       "       [-0.28629917,  0.28629917,  0.48507125, -0.48507125,  0.4472136 ,\n",
       "        -0.28629917, -0.28629917, -0.10599979],\n",
       "       [-0.28629917,  0.28629917,  0.48507125, -0.48507125,  0.4472136 ,\n",
       "        -0.28629917, -0.28629917, -0.10599979],\n",
       "       [-0.28629917,  0.28629917,  0.48507125, -0.48507125,  0.4472136 ,\n",
       "        -0.28629917, -0.28629917, -0.10599979],\n",
       "       [-0.28629917,  0.28629917,  0.48507125, -0.48507125,  0.4472136 ,\n",
       "        -0.28629917, -0.28629917, -0.10599979],\n",
       "       [ 0.05725983, -0.05725983, -0.24253563,  0.24253563,  0.4472136 ,\n",
       "         0.05725983,  0.05725983, -0.10599979],\n",
       "       [ 0.05725983, -0.05725983, -0.24253563,  0.24253563,  0.4472136 ,\n",
       "         0.05725983,  0.05725983, -0.10599979],\n",
       "       [ 0.05725983, -0.05725983, -0.24253563,  0.24253563,  0.4472136 ,\n",
       "         0.05725983,  0.05725983, -0.10599979],\n",
       "       [ 0.05725983, -0.05725983, -0.24253563,  0.24253563,  0.4472136 ,\n",
       "         0.05725983,  0.05725983, -0.10599979],\n",
       "       [ 0.05725983, -0.05725983, -0.24253563,  0.24253563,  0.4472136 ,\n",
       "         0.05725983,  0.05725983, -0.10599979],\n",
       "       [ 0.05725983, -0.05725983, -0.24253563,  0.24253563,  0.4472136 ,\n",
       "         0.05725983,  0.05725983, -0.10599979],\n",
       "       [ 0.40081883, -0.40081883, -0.24253563,  0.24253563,  0.4472136 ,\n",
       "         0.40081883,  0.40081883,  0.52999894],\n",
       "       [ 0.40081883, -0.40081883, -0.24253563,  0.24253563,  0.4472136 ,\n",
       "         0.40081883,  0.40081883,  0.52999894],\n",
       "       [ 0.40081883, -0.40081883, -0.24253563,  0.24253563,  0.4472136 ,\n",
       "         0.40081883,  0.40081883,  0.52999894],\n",
       "       [ 0.40081883, -0.40081883, -0.24253563,  0.24253563,  0.4472136 ,\n",
       "         0.40081883,  0.40081883,  0.52999894],\n",
       "       [ 0.40081883, -0.40081883, -0.24253563,  0.24253563,  0.4472136 ,\n",
       "         0.40081883,  0.40081883,  0.52999894],\n",
       "       [ 0.40081883, -0.40081883, -0.24253563,  0.24253563,  0.4472136 ,\n",
       "         0.40081883,  0.40081883,  0.52999894],\n",
       "       [ 0.74437783, -0.74437783, -0.9701425 ,  0.9701425 ,  0.4472136 ,\n",
       "         0.74437783,  0.74437783,  0.52999894],\n",
       "       [ 0.74437783, -0.74437783, -0.9701425 ,  0.9701425 ,  0.4472136 ,\n",
       "         0.74437783,  0.74437783,  0.52999894],\n",
       "       [ 0.74437783, -0.74437783, -0.9701425 ,  0.9701425 ,  0.4472136 ,\n",
       "         0.74437783,  0.74437783,  0.52999894],\n",
       "       [ 0.74437783, -0.74437783, -0.9701425 ,  0.9701425 ,  0.4472136 ,\n",
       "         0.74437783,  0.74437783,  0.52999894],\n",
       "       [ 0.74437783, -0.74437783, -0.9701425 ,  0.9701425 ,  0.4472136 ,\n",
       "         0.74437783,  0.74437783,  0.52999894],\n",
       "       [ 0.74437783, -0.74437783, -0.9701425 ,  0.9701425 ,  0.4472136 ,\n",
       "         0.74437783,  0.74437783,  0.52999894],\n",
       "       [ 1.08793684, -1.08793684, -0.9701425 ,  0.9701425 ,  0.4472136 ,\n",
       "         1.08793684,  1.08793684,  1.16599767],\n",
       "       [ 1.08793684, -1.08793684, -0.9701425 ,  0.9701425 ,  0.4472136 ,\n",
       "         1.08793684,  1.08793684,  1.16599767],\n",
       "       [ 1.08793684, -1.08793684, -0.9701425 ,  0.9701425 ,  0.4472136 ,\n",
       "         1.08793684,  1.08793684,  1.16599767],\n",
       "       [ 1.08793684, -1.08793684, -0.9701425 ,  0.9701425 ,  0.4472136 ,\n",
       "         1.08793684,  1.08793684,  1.16599767],\n",
       "       [ 1.08793684, -1.08793684, -0.9701425 ,  0.9701425 ,  0.4472136 ,\n",
       "         1.08793684,  1.08793684,  1.16599767],\n",
       "       [ 1.08793684, -1.08793684, -0.9701425 ,  0.9701425 ,  0.4472136 ,\n",
       "         1.08793684,  1.08793684,  1.16599767]])"
      ]
     },
     "execution_count": 25,
     "metadata": {},
     "output_type": "execute_result"
    }
   ],
   "source": [
    "X_train"
   ]
  },
  {
   "cell_type": "code",
   "execution_count": 26,
   "id": "986dec41-1440-4c07-bc6d-a8cc5a3c2042",
   "metadata": {},
   "outputs": [],
   "source": [
    "#data_train[data_train.notnull()]"
   ]
  },
  {
   "cell_type": "code",
   "execution_count": 27,
   "id": "8b6b4826-c5f1-4f9f-a589-af58c3e5e6ed",
   "metadata": {},
   "outputs": [],
   "source": [
    "X_train, X_test, y_train, y_test = train_test_split(X_train, y_train, test_size=0.3, random_state=0)"
   ]
  },
  {
   "cell_type": "code",
   "execution_count": 28,
   "id": "a04694c5-f1da-4126-8ffa-9c4669afab3a",
   "metadata": {},
   "outputs": [
    {
     "name": "stdout",
     "output_type": "stream",
     "text": [
      "(25, 8) (25, 1) (11, 8) (11, 1)\n"
     ]
    }
   ],
   "source": [
    "print(X_train.shape,y_train.shape,X_test.shape,y_test.shape)"
   ]
  },
  {
   "cell_type": "code",
   "execution_count": 29,
   "id": "b582a346-eef2-4d11-95d5-51b2126cb743",
   "metadata": {},
   "outputs": [
    {
     "name": "stdout",
     "output_type": "stream",
     "text": [
      "[[27.25566667]\n",
      " [20.27166667]\n",
      " [13.323     ]\n",
      " [27.25566667]\n",
      " [20.27166667]\n",
      " [13.323     ]\n",
      " [13.28766667]\n",
      " [ 8.156     ]\n",
      " [13.28766667]\n",
      " [20.307     ]\n",
      " [20.307     ]]\n"
     ]
    }
   ],
   "source": [
    "\n",
    "model = LinearRegression().fit(X_train,y_train)\n",
    "y_pred = model.predict(X_test)\n",
    "print(y_pred)\n",
    "#print(mean_squared_error(y_test,y_pred))"
   ]
  },
  {
   "cell_type": "code",
   "execution_count": 30,
   "id": "9dc244db-1674-4ae8-b22d-a3e11bf7e22e",
   "metadata": {},
   "outputs": [],
   "source": [
    "mlr = LinearRegression()"
   ]
  },
  {
   "cell_type": "code",
   "execution_count": 31,
   "id": "708ab1cb-9543-4927-b1bf-c8a3fa50d029",
   "metadata": {},
   "outputs": [
    {
     "data": {
      "text/html": [
       "<style>#sk-container-id-3 {color: black;background-color: white;}#sk-container-id-3 pre{padding: 0;}#sk-container-id-3 div.sk-toggleable {background-color: white;}#sk-container-id-3 label.sk-toggleable__label {cursor: pointer;display: block;width: 100%;margin-bottom: 0;padding: 0.3em;box-sizing: border-box;text-align: center;}#sk-container-id-3 label.sk-toggleable__label-arrow:before {content: \"▸\";float: left;margin-right: 0.25em;color: #696969;}#sk-container-id-3 label.sk-toggleable__label-arrow:hover:before {color: black;}#sk-container-id-3 div.sk-estimator:hover label.sk-toggleable__label-arrow:before {color: black;}#sk-container-id-3 div.sk-toggleable__content {max-height: 0;max-width: 0;overflow: hidden;text-align: left;background-color: #f0f8ff;}#sk-container-id-3 div.sk-toggleable__content pre {margin: 0.2em;color: black;border-radius: 0.25em;background-color: #f0f8ff;}#sk-container-id-3 input.sk-toggleable__control:checked~div.sk-toggleable__content {max-height: 200px;max-width: 100%;overflow: auto;}#sk-container-id-3 input.sk-toggleable__control:checked~label.sk-toggleable__label-arrow:before {content: \"▾\";}#sk-container-id-3 div.sk-estimator input.sk-toggleable__control:checked~label.sk-toggleable__label {background-color: #d4ebff;}#sk-container-id-3 div.sk-label input.sk-toggleable__control:checked~label.sk-toggleable__label {background-color: #d4ebff;}#sk-container-id-3 input.sk-hidden--visually {border: 0;clip: rect(1px 1px 1px 1px);clip: rect(1px, 1px, 1px, 1px);height: 1px;margin: -1px;overflow: hidden;padding: 0;position: absolute;width: 1px;}#sk-container-id-3 div.sk-estimator {font-family: monospace;background-color: #f0f8ff;border: 1px dotted black;border-radius: 0.25em;box-sizing: border-box;margin-bottom: 0.5em;}#sk-container-id-3 div.sk-estimator:hover {background-color: #d4ebff;}#sk-container-id-3 div.sk-parallel-item::after {content: \"\";width: 100%;border-bottom: 1px solid gray;flex-grow: 1;}#sk-container-id-3 div.sk-label:hover label.sk-toggleable__label {background-color: #d4ebff;}#sk-container-id-3 div.sk-serial::before {content: \"\";position: absolute;border-left: 1px solid gray;box-sizing: border-box;top: 0;bottom: 0;left: 50%;z-index: 0;}#sk-container-id-3 div.sk-serial {display: flex;flex-direction: column;align-items: center;background-color: white;padding-right: 0.2em;padding-left: 0.2em;position: relative;}#sk-container-id-3 div.sk-item {position: relative;z-index: 1;}#sk-container-id-3 div.sk-parallel {display: flex;align-items: stretch;justify-content: center;background-color: white;position: relative;}#sk-container-id-3 div.sk-item::before, #sk-container-id-3 div.sk-parallel-item::before {content: \"\";position: absolute;border-left: 1px solid gray;box-sizing: border-box;top: 0;bottom: 0;left: 50%;z-index: -1;}#sk-container-id-3 div.sk-parallel-item {display: flex;flex-direction: column;z-index: 1;position: relative;background-color: white;}#sk-container-id-3 div.sk-parallel-item:first-child::after {align-self: flex-end;width: 50%;}#sk-container-id-3 div.sk-parallel-item:last-child::after {align-self: flex-start;width: 50%;}#sk-container-id-3 div.sk-parallel-item:only-child::after {width: 0;}#sk-container-id-3 div.sk-dashed-wrapped {border: 1px dashed gray;margin: 0 0.4em 0.5em 0.4em;box-sizing: border-box;padding-bottom: 0.4em;background-color: white;}#sk-container-id-3 div.sk-label label {font-family: monospace;font-weight: bold;display: inline-block;line-height: 1.2em;}#sk-container-id-3 div.sk-label-container {text-align: center;}#sk-container-id-3 div.sk-container {/* jupyter's `normalize.less` sets `[hidden] { display: none; }` but bootstrap.min.css set `[hidden] { display: none !important; }` so we also need the `!important` here to be able to override the default hidden behavior on the sphinx rendered scikit-learn.org. See: https://github.com/scikit-learn/scikit-learn/issues/21755 */display: inline-block !important;position: relative;}#sk-container-id-3 div.sk-text-repr-fallback {display: none;}</style><div id=\"sk-container-id-3\" class=\"sk-top-container\"><div class=\"sk-text-repr-fallback\"><pre>LinearRegression()</pre><b>In a Jupyter environment, please rerun this cell to show the HTML representation or trust the notebook. <br />On GitHub, the HTML representation is unable to render, please try loading this page with nbviewer.org.</b></div><div class=\"sk-container\" hidden><div class=\"sk-item\"><div class=\"sk-estimator sk-toggleable\"><input class=\"sk-toggleable__control sk-hidden--visually\" id=\"sk-estimator-id-3\" type=\"checkbox\" checked><label for=\"sk-estimator-id-3\" class=\"sk-toggleable__label sk-toggleable__label-arrow\">LinearRegression</label><div class=\"sk-toggleable__content\"><pre>LinearRegression()</pre></div></div></div></div></div>"
      ],
      "text/plain": [
       "LinearRegression()"
      ]
     },
     "execution_count": 31,
     "metadata": {},
     "output_type": "execute_result"
    }
   ],
   "source": [
    "mlr.fit(X_train, y_train)"
   ]
  },
  {
   "cell_type": "code",
   "execution_count": 32,
   "id": "079686f8-e3aa-4776-9a21-d1000e7daeb6",
   "metadata": {},
   "outputs": [
    {
     "data": {
      "text/plain": [
       "array([17.10016667])"
      ]
     },
     "execution_count": 32,
     "metadata": {},
     "output_type": "execute_result"
    }
   ],
   "source": [
    "mlr.intercept_"
   ]
  },
  {
   "cell_type": "code",
   "execution_count": 33,
   "id": "e6156724-388f-45b8-b8fd-904bab30a9b6",
   "metadata": {},
   "outputs": [
    {
     "name": "stdout",
     "output_type": "stream",
     "text": [
      "Root Mean Squared Error: 1.3159199800669468\n"
     ]
    }
   ],
   "source": [
    "\n",
    "print('Root Mean Squared Error:', np.sqrt(metrics.mean_squared_error(y_test, y_pred)))\n"
   ]
  },
  {
   "cell_type": "code",
   "execution_count": null,
   "id": "3d1eb0ac-2362-4e0f-899e-1bff2c5664f8",
   "metadata": {},
   "outputs": [],
   "source": []
  }
 ],
 "metadata": {
  "kernelspec": {
   "display_name": "Python 3 (ipykernel)",
   "language": "python",
   "name": "python3"
  },
  "language_info": {
   "codemirror_mode": {
    "name": "ipython",
    "version": 3
   },
   "file_extension": ".py",
   "mimetype": "text/x-python",
   "name": "python",
   "nbconvert_exporter": "python",
   "pygments_lexer": "ipython3",
   "version": "3.8.13"
  }
 },
 "nbformat": 4,
 "nbformat_minor": 5
}
