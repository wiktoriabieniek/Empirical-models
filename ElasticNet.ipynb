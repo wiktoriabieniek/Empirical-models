{
 "cells": [
  {
   "cell_type": "code",
   "execution_count": 1,
   "id": "2577ff86-2bfc-49a8-87b2-460e03d2bf21",
   "metadata": {},
   "outputs": [],
   "source": [
    "import pandas as pd\n",
    "import numpy as np\n",
    "from sklearn import model_selection\n",
    "from sklearn.preprocessing import StandardScaler\n",
    "from sklearn.linear_model import Ridge\n",
    "from sklearn.metrics import mean_squared_error\n",
    "from math import sqrt\n",
    "import matplotlib.pyplot as plt\n",
    "from sklearn.linear_model import ElasticNet"
   ]
  },
  {
   "cell_type": "code",
   "execution_count": 2,
   "id": "69f4e97e-1fdf-4358-b98f-df826cea6dc8",
   "metadata": {},
   "outputs": [],
   "source": [
    "df_test = pd.read_csv('test_v1.csv', sep = ';',decimal =',')\n",
    "df_train = pd.read_csv('train_v1.csv', sep = ';', decimal =',')"
   ]
  },
  {
   "cell_type": "code",
   "execution_count": 3,
   "id": "5f0ffc0b-33f4-46b1-b4b1-68f3f920fe20",
   "metadata": {},
   "outputs": [],
   "source": [
    "X_train = df_train.drop(columns = ['Disintegration_Time'])\n",
    "y_train = df_train[['Disintegration_Time']]\n",
    "\n",
    "X_test = df_test.drop(columns = ['Disintegration_Time'])\n",
    "y_test = df_test[['Disintegration_Time']]"
   ]
  },
  {
   "cell_type": "code",
   "execution_count": 4,
   "id": "52274972-9e0a-48d9-9b0d-b20e251b0f45",
   "metadata": {},
   "outputs": [],
   "source": [
    "#model_enet=ElasticNet(alpha=0.0001)\n",
    "#model_enet.fit(X_train, y_train)\n",
    "#pred_train_enet=model_enet.predict(X_train)\n",
    "#print(np.sqrt(mean_squared_error(y_train,pred_train_enet)))\n"
   ]
  },
  {
   "cell_type": "code",
   "execution_count": 5,
   "id": "58701f68-7884-458b-a301-213d5dfcd60a",
   "metadata": {},
   "outputs": [],
   "source": [
    "rf_results = pd.DataFrame(columns=['rmse'])"
   ]
  },
  {
   "cell_type": "code",
   "execution_count": 6,
   "id": "60f8fb3d-345f-402b-b938-ae3aaa3ee03d",
   "metadata": {},
   "outputs": [],
   "source": [
    "rf_model = ElasticNet(alpha=1.2)\n",
    "rf_model_reg = rf_model.fit(X_train, np.ravel(y_train))\n",
    "tmp_rmse = mean_squared_error(y_test, rf_model_reg.predict(X_test), squared=False)\n",
    "tmp_row = pd.DataFrame(data=np.array([[tmp_rmse]]), columns=['rmse'])\n",
    "rf_results = pd.concat([rf_results, tmp_row], axis=0, ignore_index=True)"
   ]
  },
  {
   "cell_type": "code",
   "execution_count": 7,
   "id": "23b3eeff-abbe-417c-a3d1-46c1b7aabf77",
   "metadata": {},
   "outputs": [
    {
     "data": {
      "text/html": [
       "<div>\n",
       "<style scoped>\n",
       "    .dataframe tbody tr th:only-of-type {\n",
       "        vertical-align: middle;\n",
       "    }\n",
       "\n",
       "    .dataframe tbody tr th {\n",
       "        vertical-align: top;\n",
       "    }\n",
       "\n",
       "    .dataframe thead th {\n",
       "        text-align: right;\n",
       "    }\n",
       "</style>\n",
       "<table border=\"1\" class=\"dataframe\">\n",
       "  <thead>\n",
       "    <tr style=\"text-align: right;\">\n",
       "      <th></th>\n",
       "      <th>rmse</th>\n",
       "    </tr>\n",
       "  </thead>\n",
       "  <tbody>\n",
       "    <tr>\n",
       "      <th>0</th>\n",
       "      <td>1.205725</td>\n",
       "    </tr>\n",
       "  </tbody>\n",
       "</table>\n",
       "</div>"
      ],
      "text/plain": [
       "       rmse\n",
       "0  1.205725"
      ]
     },
     "execution_count": 7,
     "metadata": {},
     "output_type": "execute_result"
    }
   ],
   "source": [
    "rf_results"
   ]
  }
 ],
 "metadata": {
  "kernelspec": {
   "display_name": "Python 3 (ipykernel)",
   "language": "python",
   "name": "python3"
  },
  "language_info": {
   "codemirror_mode": {
    "name": "ipython",
    "version": 3
   },
   "file_extension": ".py",
   "mimetype": "text/x-python",
   "name": "python",
   "nbconvert_exporter": "python",
   "pygments_lexer": "ipython3",
   "version": "3.8.13"
  }
 },
 "nbformat": 4,
 "nbformat_minor": 5
}
