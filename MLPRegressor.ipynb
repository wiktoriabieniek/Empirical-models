{
 "cells": [
  {
   "cell_type": "code",
   "execution_count": 1,
   "id": "c833b1a4-f6bc-46e6-8bb8-db05b4fb8584",
   "metadata": {},
   "outputs": [],
   "source": [
    "from sklearn.neural_network import MLPRegressor\n",
    "from sklearn.preprocessing import StandardScaler\n",
    "from sklearn.metrics import mean_squared_error\n",
    "from math import sqrt\n",
    "import matplotlib.pyplot as plt\n",
    "import pandas as pd\n",
    "import numpy as np"
   ]
  },
  {
   "cell_type": "code",
   "execution_count": 2,
   "id": "afe79444-251f-47c6-a6f8-cde6ba36143b",
   "metadata": {},
   "outputs": [],
   "source": [
    "df_test = pd.read_csv('test_v1.csv', sep = ';',decimal =',')\n",
    "df_train = pd.read_csv('train_v1.csv', sep = ';', decimal =',')"
   ]
  },
  {
   "cell_type": "code",
   "execution_count": 3,
   "id": "92d8f5a6-e396-4d7b-8532-5064e5813467",
   "metadata": {},
   "outputs": [],
   "source": [
    "X_train = df_train.drop(columns = ['Disintegration_Time'])\n",
    "y_train = df_train[['Disintegration_Time']]\n",
    "\n",
    "X_test = df_test.drop(columns = ['Disintegration_Time'])\n",
    "y_test = df_test[['Disintegration_Time']]"
   ]
  },
  {
   "cell_type": "code",
   "execution_count": 4,
   "id": "e1a97ddc-c934-4153-89e3-9a8b33a86eef",
   "metadata": {},
   "outputs": [],
   "source": [
    "scaler = StandardScaler()\n",
    "# fit scaler to training data set, then transform both data sets (training and testing)\n",
    "scaler.fit(X_train) \n",
    "X_train = scaler.transform(X_train)\n",
    "X_test = scaler.transform(X_test)"
   ]
  },
  {
   "cell_type": "code",
   "execution_count": 5,
   "id": "79caf315-e569-424c-8bb6-61b87debe6ba",
   "metadata": {},
   "outputs": [],
   "source": [
    "from warnings import simplefilter\n",
    "from sklearn.exceptions import ConvergenceWarning\n",
    "simplefilter(\"ignore\", category=ConvergenceWarning)"
   ]
  },
  {
   "cell_type": "code",
   "execution_count": 6,
   "id": "8c3f25a3-c691-4643-a245-2fb8ea66bde5",
   "metadata": {},
   "outputs": [],
   "source": [
    "#reate MLPRegressor object, set its parameters and fit it to training data\n",
    "regr = MLPRegressor(random_state=123,\n",
    "                    hidden_layer_sizes=(10,50,100),\n",
    "                    max_iter= 400,\n",
    "                    alpha = 0.01,\n",
    "                    tol = 0.01).fit(X_train, np.ravel(np.array(y_train)))"
   ]
  },
  {
   "cell_type": "code",
   "execution_count": 7,
   "id": "ddb172a5-397c-4aa8-8c1c-567f069262e5",
   "metadata": {},
   "outputs": [],
   "source": [
    "# Make predictions for our test data\n",
    "y_pred = regr.predict(X_test)"
   ]
  },
  {
   "cell_type": "code",
   "execution_count": 8,
   "id": "017b3835-e24f-4324-b467-831f7df30bdc",
   "metadata": {},
   "outputs": [
    {
     "name": "stdout",
     "output_type": "stream",
     "text": [
      "RMSE =  0.4277155097446699\n"
     ]
    }
   ],
   "source": [
    "# Calcualte error and goodness of fit\n",
    "print(\"RMSE = \", sqrt(mean_squared_error(y_pred, y_test)))"
   ]
  }
 ],
 "metadata": {
  "kernelspec": {
   "display_name": "Python 3 (ipykernel)",
   "language": "python",
   "name": "python3"
  },
  "language_info": {
   "codemirror_mode": {
    "name": "ipython",
    "version": 3
   },
   "file_extension": ".py",
   "mimetype": "text/x-python",
   "name": "python",
   "nbconvert_exporter": "python",
   "pygments_lexer": "ipython3",
   "version": "3.8.13"
  }
 },
 "nbformat": 4,
 "nbformat_minor": 5
}
