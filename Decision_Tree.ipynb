{
 "cells": [
  {
   "cell_type": "code",
   "execution_count": 4,
   "id": "5b3e33ab-8087-4d36-a896-28561c1e5053",
   "metadata": {},
   "outputs": [],
   "source": [
    "# Import the necessary modules and libraries\n",
    "import numpy as np\n",
    "from sklearn.tree import DecisionTreeRegressor\n",
    "import matplotlib.pyplot as plt\n",
    "import pandas as pd\n",
    "import numpy as np\n",
    "from sklearn.neural_network import MLPRegressor\n",
    "from sklearn.preprocessing import StandardScaler\n",
    "from sklearn.metrics import r2_score\n",
    "from sklearn.metrics import mean_squared_error\n",
    "from math import sqrt\n",
    "import matplotlib.pyplot as plt"
   ]
  },
  {
   "cell_type": "code",
   "execution_count": 5,
   "id": "9bc264c0-a7d5-420a-8528-c4c9141c8ccd",
   "metadata": {},
   "outputs": [],
   "source": [
    "df_test = pd.read_csv('test_v1.csv', sep = ';',decimal =',')\n",
    "df_train = pd.read_csv('train_v1.csv', sep = ';', decimal =',')"
   ]
  },
  {
   "cell_type": "code",
   "execution_count": 6,
   "id": "249fb94c-c73f-4628-b895-5a2a0e516680",
   "metadata": {},
   "outputs": [],
   "source": [
    "# reload data set\n",
    "X_train = df_train.drop(columns = ['Disintegration_Time'])\n",
    "y_train = df_train[['Disintegration_Time']]\n",
    "\n",
    "X_test = df_test.drop(columns = ['Disintegration_Time'])\n",
    "y_test = df_test[['Disintegration_Time']]\n"
   ]
  },
  {
   "cell_type": "code",
   "execution_count": 7,
   "id": "b2d41914-7a28-43b7-bd2e-880b3559a2fc",
   "metadata": {},
   "outputs": [
    {
     "data": {
      "text/html": [
       "<div>\n",
       "<style scoped>\n",
       "    .dataframe tbody tr th:only-of-type {\n",
       "        vertical-align: middle;\n",
       "    }\n",
       "\n",
       "    .dataframe tbody tr th {\n",
       "        vertical-align: top;\n",
       "    }\n",
       "\n",
       "    .dataframe thead th {\n",
       "        text-align: right;\n",
       "    }\n",
       "</style>\n",
       "<table border=\"1\" class=\"dataframe\">\n",
       "  <thead>\n",
       "    <tr style=\"text-align: right;\">\n",
       "      <th></th>\n",
       "      <th>DecisionTree</th>\n",
       "    </tr>\n",
       "  </thead>\n",
       "  <tbody>\n",
       "    <tr>\n",
       "      <th>rmse_train</th>\n",
       "      <td>NaN</td>\n",
       "    </tr>\n",
       "    <tr>\n",
       "      <th>rmse_test</th>\n",
       "      <td>NaN</td>\n",
       "    </tr>\n",
       "  </tbody>\n",
       "</table>\n",
       "</div>"
      ],
      "text/plain": [
       "           DecisionTree\n",
       "rmse_train          NaN\n",
       "rmse_test           NaN"
      ]
     },
     "execution_count": 7,
     "metadata": {},
     "output_type": "execute_result"
    }
   ],
   "source": [
    "algos = ['DecisionTree']\n",
    "metrics = ['rmse_train','rmse_test']\n",
    "results = pd.DataFrame(columns=algos, index = metrics)\n",
    "results"
   ]
  },
  {
   "cell_type": "code",
   "execution_count": 8,
   "id": "d7df2add-ee97-42d5-9ae0-aec318099adf",
   "metadata": {},
   "outputs": [],
   "source": [
    "rf_results = pd.DataFrame(columns=['depth', 'rmse'])"
   ]
  },
  {
   "cell_type": "code",
   "execution_count": 12,
   "id": "acd03c43-e590-4036-b243-d984c476f2cf",
   "metadata": {},
   "outputs": [],
   "source": [
    "my_depth = [1,2,3,4,5]"
   ]
  },
  {
   "cell_type": "code",
   "execution_count": 13,
   "id": "a617178d-9e2b-4077-873f-eb11d2fe04c2",
   "metadata": {},
   "outputs": [],
   "source": [
    "for depth in my_depth:\n",
    "    rf_model =DecisionTreeRegressor(max_depth=depth, min_samples_leaf=10,criterion = 'friedman_mse')\n",
    "    rf_model_reg = rf_model.fit(X_train, np.ravel(y_train))\n",
    "    tmp_rmse = mean_squared_error(y_test, rf_model_reg.predict(X_test), squared=False)\n",
    "    tmp_r2 = r2_score(y_test, rf_model_reg.predict(X_test))\n",
    "    tmp_depth = depth\n",
    "    tmp_row = pd.DataFrame(data=np.array([[int(tmp_depth),tmp_rmse]]), columns=['depth', 'rmse'])\n",
    "    rf_results = pd.concat([rf_results, tmp_row], axis=0, ignore_index=True)"
   ]
  },
  {
   "cell_type": "code",
   "execution_count": 14,
   "id": "d77082d7-1e2a-4c33-8574-80a1394b5822",
   "metadata": {},
   "outputs": [
    {
     "data": {
      "text/html": [
       "<div>\n",
       "<style scoped>\n",
       "    .dataframe tbody tr th:only-of-type {\n",
       "        vertical-align: middle;\n",
       "    }\n",
       "\n",
       "    .dataframe tbody tr th {\n",
       "        vertical-align: top;\n",
       "    }\n",
       "\n",
       "    .dataframe thead th {\n",
       "        text-align: right;\n",
       "    }\n",
       "</style>\n",
       "<table border=\"1\" class=\"dataframe\">\n",
       "  <thead>\n",
       "    <tr style=\"text-align: right;\">\n",
       "      <th></th>\n",
       "      <th>depth</th>\n",
       "      <th>rmse</th>\n",
       "    </tr>\n",
       "  </thead>\n",
       "  <tbody>\n",
       "    <tr>\n",
       "      <th>0</th>\n",
       "      <td>1.0</td>\n",
       "      <td>1.641602</td>\n",
       "    </tr>\n",
       "    <tr>\n",
       "      <th>1</th>\n",
       "      <td>2.0</td>\n",
       "      <td>1.641602</td>\n",
       "    </tr>\n",
       "    <tr>\n",
       "      <th>2</th>\n",
       "      <td>3.0</td>\n",
       "      <td>1.641602</td>\n",
       "    </tr>\n",
       "    <tr>\n",
       "      <th>3</th>\n",
       "      <td>4.0</td>\n",
       "      <td>1.641602</td>\n",
       "    </tr>\n",
       "    <tr>\n",
       "      <th>4</th>\n",
       "      <td>5.0</td>\n",
       "      <td>1.641602</td>\n",
       "    </tr>\n",
       "  </tbody>\n",
       "</table>\n",
       "</div>"
      ],
      "text/plain": [
       "   depth      rmse\n",
       "0    1.0  1.641602\n",
       "1    2.0  1.641602\n",
       "2    3.0  1.641602\n",
       "3    4.0  1.641602\n",
       "4    5.0  1.641602"
      ]
     },
     "execution_count": 14,
     "metadata": {},
     "output_type": "execute_result"
    }
   ],
   "source": [
    "rf_results"
   ]
  },
  {
   "cell_type": "code",
   "execution_count": 16,
   "id": "d5efea1c-de19-4ac3-9a82-05e1943b05b5",
   "metadata": {},
   "outputs": [],
   "source": [
    "# Fit regression model\n",
    "#regr_1 = DecisionTreeRegressor(max_depth=3, min_samples_leaf=10,criterion = 'friedman_mse')\n",
    "#regr_2 = DecisionTreeRegressor(max_depth=15, random_state=1, criterion = 'friedman_mse')\n",
    "\n",
    "\n",
    "#regr_1.fit(X_train, y_train)\n",
    "#regr_2.fit(X_train, y_train)"
   ]
  }
 ],
 "metadata": {
  "kernelspec": {
   "display_name": "Python 3 (ipykernel)",
   "language": "python",
   "name": "python3"
  },
  "language_info": {
   "codemirror_mode": {
    "name": "ipython",
    "version": 3
   },
   "file_extension": ".py",
   "mimetype": "text/x-python",
   "name": "python",
   "nbconvert_exporter": "python",
   "pygments_lexer": "ipython3",
   "version": "3.8.13"
  }
 },
 "nbformat": 4,
 "nbformat_minor": 5
}
