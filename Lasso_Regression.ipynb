{
 "cells": [
  {
   "cell_type": "code",
   "execution_count": 41,
   "id": "8a5105fe-3bbf-4957-83d2-0e61dc384600",
   "metadata": {},
   "outputs": [],
   "source": [
    "import pandas as pd\n",
    "import numpy as np\n",
    "from sklearn import model_selection\n",
    "from sklearn.preprocessing import StandardScaler\n",
    "from sklearn.linear_model import Lasso\n",
    "from sklearn.metrics import mean_squared_error\n",
    "from math import sqrt\n",
    "import matplotlib.pyplot as plt\n"
   ]
  },
  {
   "cell_type": "code",
   "execution_count": 42,
   "id": "d2d9cea7-05b0-4d78-b097-0a0e7f3af42c",
   "metadata": {},
   "outputs": [],
   "source": [
    "df_test = pd.read_csv('test_v1.csv', sep = ';',decimal =',')\n",
    "df_train = pd.read_csv('train_v1.csv', sep = ';', decimal =',')"
   ]
  },
  {
   "cell_type": "code",
   "execution_count": 43,
   "id": "0e648f04-f32f-415f-b807-b03fb8394c5f",
   "metadata": {},
   "outputs": [],
   "source": [
    "X_train = df_train.drop(columns = ['Disintegration_Time'])\n",
    "y_train = df_train[['Disintegration_Time']]\n",
    "\n",
    "X_test = df_test.drop(columns = ['Disintegration_Time'])\n",
    "y_test = df_test[['Disintegration_Time']]\n"
   ]
  },
  {
   "cell_type": "code",
   "execution_count": 44,
   "id": "f3f5fe74-4350-4c39-9cc8-843c26bb28c9",
   "metadata": {},
   "outputs": [],
   "source": [
    "#model_lasso = Lasso(alpha=0.01)\n",
    "#model_lasso.fit(X_train, y_train)\n"
   ]
  },
  {
   "cell_type": "code",
   "execution_count": 45,
   "id": "ab3e4ca1-5206-4abe-8711-92b29577de47",
   "metadata": {},
   "outputs": [
    {
     "data": {
      "text/html": [
       "<div>\n",
       "<style scoped>\n",
       "    .dataframe tbody tr th:only-of-type {\n",
       "        vertical-align: middle;\n",
       "    }\n",
       "\n",
       "    .dataframe tbody tr th {\n",
       "        vertical-align: top;\n",
       "    }\n",
       "\n",
       "    .dataframe thead th {\n",
       "        text-align: right;\n",
       "    }\n",
       "</style>\n",
       "<table border=\"1\" class=\"dataframe\">\n",
       "  <thead>\n",
       "    <tr style=\"text-align: right;\">\n",
       "      <th></th>\n",
       "      <th>Ridge</th>\n",
       "    </tr>\n",
       "  </thead>\n",
       "  <tbody>\n",
       "    <tr>\n",
       "      <th>rmse_train</th>\n",
       "      <td>NaN</td>\n",
       "    </tr>\n",
       "    <tr>\n",
       "      <th>rmse_test</th>\n",
       "      <td>NaN</td>\n",
       "    </tr>\n",
       "  </tbody>\n",
       "</table>\n",
       "</div>"
      ],
      "text/plain": [
       "           Ridge\n",
       "rmse_train   NaN\n",
       "rmse_test    NaN"
      ]
     },
     "execution_count": 45,
     "metadata": {},
     "output_type": "execute_result"
    }
   ],
   "source": [
    "algos = ['Ridge']\n",
    "metrics = ['rmse_train','rmse_test']\n",
    "results = pd.DataFrame(columns=algos, index = metrics)\n",
    "results"
   ]
  },
  {
   "cell_type": "code",
   "execution_count": 46,
   "id": "3e63628e-bb33-4258-b29f-93a1c98a4a81",
   "metadata": {},
   "outputs": [],
   "source": [
    "#pred_train_lasso=model_lasso.predict(X_train)\n",
    "#print(np.sqrt(mean_squared_error(y_train,pred_train_lasso)))"
   ]
  },
  {
   "cell_type": "code",
   "execution_count": 47,
   "id": "6d225c2d-9b8f-4216-80df-08c9d15dcf51",
   "metadata": {},
   "outputs": [],
   "source": [
    "#model_lasso = Lasso(alpha=0.01)\n",
    "#model_lasso.fit(X_test, y_test)"
   ]
  },
  {
   "cell_type": "code",
   "execution_count": 48,
   "id": "cc85da5a-f5f5-40b9-8402-a450ee1fcece",
   "metadata": {},
   "outputs": [],
   "source": [
    "#pred_test_lasso=model_lasso.predict(X_test)\n",
    "#print(np.sqrt(mean_squared_error(y_test,pred_test_lasso)))"
   ]
  },
  {
   "cell_type": "code",
   "execution_count": 49,
   "id": "e07cf434-3f4a-4220-af57-52d7e88f5760",
   "metadata": {},
   "outputs": [],
   "source": [
    "rf_results = pd.DataFrame(columns=['rmse'])"
   ]
  },
  {
   "cell_type": "code",
   "execution_count": 50,
   "id": "ef3cd677-55e6-4834-afd2-b68623ec4fb3",
   "metadata": {},
   "outputs": [],
   "source": [
    "rf_model = Lasso(alpha=1)\n",
    "rf_model_reg = rf_model.fit(X_train, np.ravel(y_train))\n",
    "tmp_rmse = mean_squared_error(y_test, rf_model_reg.predict(X_test), squared=False)\n",
    "tmp_row = pd.DataFrame(data=np.array([[tmp_rmse]]), columns=['rmse'])\n",
    "rf_results = pd.concat([rf_results, tmp_row], axis=0, ignore_index=True)"
   ]
  },
  {
   "cell_type": "code",
   "execution_count": 51,
   "id": "0828a280-f01d-4bf1-ba51-07a1127de694",
   "metadata": {},
   "outputs": [
    {
     "data": {
      "text/html": [
       "<div>\n",
       "<style scoped>\n",
       "    .dataframe tbody tr th:only-of-type {\n",
       "        vertical-align: middle;\n",
       "    }\n",
       "\n",
       "    .dataframe tbody tr th {\n",
       "        vertical-align: top;\n",
       "    }\n",
       "\n",
       "    .dataframe thead th {\n",
       "        text-align: right;\n",
       "    }\n",
       "</style>\n",
       "<table border=\"1\" class=\"dataframe\">\n",
       "  <thead>\n",
       "    <tr style=\"text-align: right;\">\n",
       "      <th></th>\n",
       "      <th>rmse</th>\n",
       "    </tr>\n",
       "  </thead>\n",
       "  <tbody>\n",
       "    <tr>\n",
       "      <th>0</th>\n",
       "      <td>1.023986</td>\n",
       "    </tr>\n",
       "  </tbody>\n",
       "</table>\n",
       "</div>"
      ],
      "text/plain": [
       "       rmse\n",
       "0  1.023986"
      ]
     },
     "execution_count": 51,
     "metadata": {},
     "output_type": "execute_result"
    }
   ],
   "source": [
    "rf_results"
   ]
  }
 ],
 "metadata": {
  "kernelspec": {
   "display_name": "Python 3 (ipykernel)",
   "language": "python",
   "name": "python3"
  },
  "language_info": {
   "codemirror_mode": {
    "name": "ipython",
    "version": 3
   },
   "file_extension": ".py",
   "mimetype": "text/x-python",
   "name": "python",
   "nbconvert_exporter": "python",
   "pygments_lexer": "ipython3",
   "version": "3.8.13"
  }
 },
 "nbformat": 4,
 "nbformat_minor": 5
}
