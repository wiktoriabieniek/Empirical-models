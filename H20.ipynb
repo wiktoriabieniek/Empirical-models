{
 "cells": [
  {
   "cell_type": "code",
   "execution_count": 1,
   "id": "b6383267-aae9-413c-b6cc-a9d75bc718ec",
   "metadata": {},
   "outputs": [],
   "source": [
    "import h2o\n",
    "\n",
    "import pandas as pd\n"
   ]
  },
  {
   "cell_type": "code",
   "execution_count": 2,
   "id": "feafc073-61dd-480a-8722-913d9ab81fb8",
   "metadata": {},
   "outputs": [
    {
     "name": "stdout",
     "output_type": "stream",
     "text": [
      "Checking whether there is an H2O instance running at http://localhost:54321 ..... not found.\n",
      "Attempting to start a local H2O server...\n",
      "; Java HotSpot(TM) 64-Bit Server VM (build 25.351-b10, mixed mode)\n",
      "  Starting server from C:\\Users\\wikto\\anaconda3\\Lib\\site-packages\\h2o\\backend\\bin\\h2o.jar\n",
      "  Ice root: C:\\Users\\wikto\\AppData\\Local\\Temp\\tmp0oycmpvi\n",
      "  JVM stdout: C:\\Users\\wikto\\AppData\\Local\\Temp\\tmp0oycmpvi\\h2o_wikto_started_from_python.out\n",
      "  JVM stderr: C:\\Users\\wikto\\AppData\\Local\\Temp\\tmp0oycmpvi\\h2o_wikto_started_from_python.err\n",
      "  Server is running at http://127.0.0.1:54321\n",
      "Connecting to H2O server at http://127.0.0.1:54321 ... successful.\n",
      "Warning: Your H2O cluster version is too old (2 years, 6 months and 11 days)! Please download and install the latest version from http://h2o.ai/download/\n"
     ]
    },
    {
     "data": {
      "text/html": [
       "<div style=\"overflow:auto\"><table style=\"width:50%\"><tr><td>H2O_cluster_uptime:</td>\n",
       "<td>06 secs</td></tr>\n",
       "<tr><td>H2O_cluster_timezone:</td>\n",
       "<td>Europe/Belgrade</td></tr>\n",
       "<tr><td>H2O_data_parsing_timezone:</td>\n",
       "<td>UTC</td></tr>\n",
       "<tr><td>H2O_cluster_version:</td>\n",
       "<td>3.30.0.4</td></tr>\n",
       "<tr><td>H2O_cluster_version_age:</td>\n",
       "<td>2 years, 6 months and 11 days !!!</td></tr>\n",
       "<tr><td>H2O_cluster_name:</td>\n",
       "<td>H2O_from_python_wikto_xo35z6</td></tr>\n",
       "<tr><td>H2O_cluster_total_nodes:</td>\n",
       "<td>1</td></tr>\n",
       "<tr><td>H2O_cluster_free_memory:</td>\n",
       "<td>1.738 Gb</td></tr>\n",
       "<tr><td>H2O_cluster_total_cores:</td>\n",
       "<td>8</td></tr>\n",
       "<tr><td>H2O_cluster_allowed_cores:</td>\n",
       "<td>8</td></tr>\n",
       "<tr><td>H2O_cluster_status:</td>\n",
       "<td>accepting new members, healthy</td></tr>\n",
       "<tr><td>H2O_connection_url:</td>\n",
       "<td>http://127.0.0.1:54321</td></tr>\n",
       "<tr><td>H2O_connection_proxy:</td>\n",
       "<td>{\"http\": null, \"https\": null}</td></tr>\n",
       "<tr><td>H2O_internal_security:</td>\n",
       "<td>False</td></tr>\n",
       "<tr><td>H2O_API_Extensions:</td>\n",
       "<td>Amazon S3, Algos, AutoML, Core V3, TargetEncoder, Core V4</td></tr>\n",
       "<tr><td>Python_version:</td>\n",
       "<td>3.9.7 final</td></tr></table></div>"
      ],
      "text/plain": [
       "--------------------------  ---------------------------------------------------------\n",
       "H2O_cluster_uptime:         06 secs\n",
       "H2O_cluster_timezone:       Europe/Belgrade\n",
       "H2O_data_parsing_timezone:  UTC\n",
       "H2O_cluster_version:        3.30.0.4\n",
       "H2O_cluster_version_age:    2 years, 6 months and 11 days !!!\n",
       "H2O_cluster_name:           H2O_from_python_wikto_xo35z6\n",
       "H2O_cluster_total_nodes:    1\n",
       "H2O_cluster_free_memory:    1.738 Gb\n",
       "H2O_cluster_total_cores:    8\n",
       "H2O_cluster_allowed_cores:  8\n",
       "H2O_cluster_status:         accepting new members, healthy\n",
       "H2O_connection_url:         http://127.0.0.1:54321\n",
       "H2O_connection_proxy:       {\"http\": null, \"https\": null}\n",
       "H2O_internal_security:      False\n",
       "H2O_API_Extensions:         Amazon S3, Algos, AutoML, Core V3, TargetEncoder, Core V4\n",
       "Python_version:             3.9.7 final\n",
       "--------------------------  ---------------------------------------------------------"
      ]
     },
     "metadata": {},
     "output_type": "display_data"
    }
   ],
   "source": [
    "from h2o.automl import H2OAutoML\n",
    "h2o.init()"
   ]
  },
  {
   "cell_type": "code",
   "execution_count": 3,
   "id": "73da0d77-056a-4ba9-b923-0471f52f57ad",
   "metadata": {},
   "outputs": [
    {
     "name": "stdout",
     "output_type": "stream",
     "text": [
      "Parse progress: |█████████████████████████████████████████████████████████| 100%\n",
      "Parse progress: |█████████████████████████████████████████████████████████| 100%\n"
     ]
    }
   ],
   "source": [
    "# Load train data into H2O\n",
    "df_train = h2o.import_file('./train_v1.csv')\n",
    "df_test = h2o.import_file('./test_v1.csv')"
   ]
  },
  {
   "cell_type": "code",
   "execution_count": 4,
   "id": "ccefd47f-212c-446f-97ab-8a86b186a045",
   "metadata": {},
   "outputs": [],
   "source": [
    "output_name = 'Disintegration_Time'"
   ]
  },
  {
   "cell_type": "code",
   "execution_count": 5,
   "id": "0da44a02-5bd4-4bb3-84e6-ffa9998d7aba",
   "metadata": {},
   "outputs": [
    {
     "name": "stdout",
     "output_type": "stream",
     "text": [
      "AutoML progress: |\n",
      "21:20:12.874: AutoML: XGBoost is not available; skipping it.\n",
      "\n",
      "████████\n",
      "21:20:19.100: Skipping training of model GBM_5_AutoML_20221212_212012 due to exception: water.exceptions.H2OModelBuilderIllegalArgumentException: Illegal argument(s) for GBM model: GBM_5_AutoML_20221212_212012.  Details: ERRR on field: _min_rows: The dataset size is too small to split for min_rows=100.0: must have at least 200.0 (weighted) rows, but have only 37.0.\n",
      "\n",
      "\n",
      "████████████████████████████████████████████████| 100%\n"
     ]
    }
   ],
   "source": [
    "aml = H2OAutoML(max_runtime_secs = 100,\n",
    "                seed = 1, project_name = \"train_v1\",\n",
    "                sort_metric = 'rmse')\n",
    "\n",
    "aml.train(y = output_name,\n",
    "          training_frame = df_train,\n",
    "          leaderboard_frame = df_test)"
   ]
  },
  {
   "cell_type": "code",
   "execution_count": 6,
   "id": "864973f3-05af-4648-8e93-65d14aa7e9d8",
   "metadata": {},
   "outputs": [
    {
     "data": {
      "text/html": [
       "<table>\n",
       "<thead>\n",
       "<tr><th>model_id                                           </th><th style=\"text-align: right;\">    rmse</th><th style=\"text-align: right;\">  mean_residual_deviance</th><th style=\"text-align: right;\">     mse</th><th style=\"text-align: right;\">     mae</th><th style=\"text-align: right;\">    rmsle</th></tr>\n",
       "</thead>\n",
       "<tbody>\n",
       "<tr><td>DeepLearning_grid__1_AutoML_20221212_212012_model_1</td><td style=\"text-align: right;\">0.869429</td><td style=\"text-align: right;\">                0.755906</td><td style=\"text-align: right;\">0.755906</td><td style=\"text-align: right;\">0.637015</td><td style=\"text-align: right;\">0.0821228</td></tr>\n",
       "<tr><td>GBM_2_AutoML_20221212_212012                       </td><td style=\"text-align: right;\">0.937412</td><td style=\"text-align: right;\">                0.878742</td><td style=\"text-align: right;\">0.878742</td><td style=\"text-align: right;\">0.865417</td><td style=\"text-align: right;\">0.0806563</td></tr>\n",
       "<tr><td>GBM_grid__1_AutoML_20221212_212012_model_1         </td><td style=\"text-align: right;\">0.962817</td><td style=\"text-align: right;\">                0.927016</td><td style=\"text-align: right;\">0.927016</td><td style=\"text-align: right;\">0.865417</td><td style=\"text-align: right;\">0.0828757</td></tr>\n",
       "<tr><td>GBM_3_AutoML_20221212_212012                       </td><td style=\"text-align: right;\">0.998206</td><td style=\"text-align: right;\">                0.996414</td><td style=\"text-align: right;\">0.996414</td><td style=\"text-align: right;\">0.865417</td><td style=\"text-align: right;\">0.0858992</td></tr>\n",
       "<tr><td>DeepLearning_grid__2_AutoML_20221212_212012_model_2</td><td style=\"text-align: right;\">1.01788 </td><td style=\"text-align: right;\">                1.03608 </td><td style=\"text-align: right;\">1.03608 </td><td style=\"text-align: right;\">0.909251</td><td style=\"text-align: right;\">0.0851428</td></tr>\n",
       "<tr><td>GBM_4_AutoML_20221212_212012                       </td><td style=\"text-align: right;\">1.01928 </td><td style=\"text-align: right;\">                1.03893 </td><td style=\"text-align: right;\">1.03893 </td><td style=\"text-align: right;\">0.865417</td><td style=\"text-align: right;\">0.0876723</td></tr>\n",
       "<tr><td>StackedEnsemble_BestOfFamily_AutoML_20221212_212012</td><td style=\"text-align: right;\">1.03299 </td><td style=\"text-align: right;\">                1.06706 </td><td style=\"text-align: right;\">1.06706 </td><td style=\"text-align: right;\">0.892057</td><td style=\"text-align: right;\">0.0795655</td></tr>\n",
       "<tr><td>StackedEnsemble_AllModels_AutoML_20221212_212012   </td><td style=\"text-align: right;\">1.06262 </td><td style=\"text-align: right;\">                1.12916 </td><td style=\"text-align: right;\">1.12916 </td><td style=\"text-align: right;\">0.971218</td><td style=\"text-align: right;\">0.0854971</td></tr>\n",
       "<tr><td>DeepLearning_grid__1_AutoML_20221212_212012_model_4</td><td style=\"text-align: right;\">1.18777 </td><td style=\"text-align: right;\">                1.41079 </td><td style=\"text-align: right;\">1.41079 </td><td style=\"text-align: right;\">1.02041 </td><td style=\"text-align: right;\">0.0932207</td></tr>\n",
       "<tr><td>XRT_1_AutoML_20221212_212012                       </td><td style=\"text-align: right;\">1.24051 </td><td style=\"text-align: right;\">                1.53887 </td><td style=\"text-align: right;\">1.53887 </td><td style=\"text-align: right;\">1.08179 </td><td style=\"text-align: right;\">0.10689  </td></tr>\n",
       "</tbody>\n",
       "</table>"
      ]
     },
     "metadata": {},
     "output_type": "display_data"
    },
    {
     "data": {
      "text/plain": []
     },
     "execution_count": 6,
     "metadata": {},
     "output_type": "execute_result"
    }
   ],
   "source": [
    "aml.leaderboard.head()"
   ]
  },
  {
   "cell_type": "code",
   "execution_count": 7,
   "id": "dcc198d7-c113-4444-8401-271d1e5e3ab5",
   "metadata": {},
   "outputs": [
    {
     "name": "stdout",
     "output_type": "stream",
     "text": [
      "deeplearning prediction progress: |███████████████████████████████████████| 100%\n"
     ]
    },
    {
     "data": {
      "text/html": [
       "<table>\n",
       "<thead>\n",
       "<tr><th style=\"text-align: right;\">  predict</th></tr>\n",
       "</thead>\n",
       "<tbody>\n",
       "<tr><td style=\"text-align: right;\"> 14.5668 </td></tr>\n",
       "<tr><td style=\"text-align: right;\">  8.41384</td></tr>\n",
       "<tr><td style=\"text-align: right;\">  8.41384</td></tr>\n",
       "<tr><td style=\"text-align: right;\">  8.41384</td></tr>\n",
       "<tr><td style=\"text-align: right;\">  8.41384</td></tr>\n",
       "<tr><td style=\"text-align: right;\">  8.41384</td></tr>\n",
       "<tr><td style=\"text-align: right;\">  8.41384</td></tr>\n",
       "<tr><td style=\"text-align: right;\">  9.94481</td></tr>\n",
       "<tr><td style=\"text-align: right;\">  9.94481</td></tr>\n",
       "<tr><td style=\"text-align: right;\">  9.94481</td></tr>\n",
       "</tbody>\n",
       "</table>"
      ]
     },
     "metadata": {},
     "output_type": "display_data"
    },
    {
     "data": {
      "text/plain": []
     },
     "execution_count": 7,
     "metadata": {},
     "output_type": "execute_result"
    }
   ],
   "source": [
    "pred = aml.predict(df_test)\n",
    "pred.head()"
   ]
  },
  {
   "cell_type": "code",
   "execution_count": 8,
   "id": "597dfef7-6b93-47af-a18f-0cc2e68d70ec",
   "metadata": {},
   "outputs": [
    {
     "name": "stdout",
     "output_type": "stream",
     "text": [
      "\n",
      "ModelMetricsRegression: deeplearning\n",
      "** Reported on test data. **\n",
      "\n",
      "MSE: 0.7559064616089146\n",
      "RMSE: 0.8694288134223035\n",
      "MAE: 0.6370146265824143\n",
      "RMSLE: 0.08212278158277862\n",
      "Mean Residual Deviance: 0.7559064616089146\n"
     ]
    },
    {
     "data": {
      "text/plain": []
     },
     "execution_count": 8,
     "metadata": {},
     "output_type": "execute_result"
    }
   ],
   "source": [
    "perf = aml.leader.model_performance(df_test)\n",
    "perf"
   ]
  }
 ],
 "metadata": {
  "kernelspec": {
   "display_name": "Python 3 (ipykernel)",
   "language": "python",
   "name": "python3"
  },
  "language_info": {
   "codemirror_mode": {
    "name": "ipython",
    "version": 3
   },
   "file_extension": ".py",
   "mimetype": "text/x-python",
   "name": "python",
   "nbconvert_exporter": "python",
   "pygments_lexer": "ipython3",
   "version": "3.8.13"
  }
 },
 "nbformat": 4,
 "nbformat_minor": 5
}
